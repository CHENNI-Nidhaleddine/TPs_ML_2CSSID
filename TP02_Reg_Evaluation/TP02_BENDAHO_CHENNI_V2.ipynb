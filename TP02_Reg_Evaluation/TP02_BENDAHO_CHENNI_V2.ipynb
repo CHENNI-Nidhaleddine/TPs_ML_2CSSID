{
 "cells": [
  {
   "cell_type": "markdown",
   "id": "45f80e9b",
   "metadata": {},
   "source": [
    "# 2CSSID-TP02. Régression et évaluation\n",
    "\n",
    "\n",
    "Dans ce TP, nous allons traiter la régression binaire et logistique, ainsi que l'évaluation des deux types d'apprentissage automatiuque (classement et régression)."
   ]
  },
  {
   "cell_type": "markdown",
   "id": "2245b050",
   "metadata": {},
   "source": [
    "- **Binôme 01** :  Nidhal Eddine CHENNI\n",
    "- **Binôme 02** :  Sarra BENDAHO"
   ]
  },
  {
   "cell_type": "code",
   "execution_count": 10,
   "id": "be907956",
   "metadata": {},
   "outputs": [
    {
     "data": {
      "text/plain": [
       "('1.21.5', '1.4.2', '3.5.1')"
      ]
     },
     "execution_count": 10,
     "metadata": {},
     "output_type": "execute_result"
    }
   ],
   "source": [
    "import matplotlib\n",
    "import numpy             as np\n",
    "import pandas            as pd\n",
    "import matplotlib.pyplot as plt\n",
    "%matplotlib inline\n",
    "\n",
    "np.__version__, pd.__version__, matplotlib.__version__"
   ]
  },
  {
   "cell_type": "code",
   "execution_count": 11,
   "id": "741ccd6f",
   "metadata": {},
   "outputs": [],
   "source": [
    "from typing          import Tuple, List, Type\n",
    "from collections.abc import Callable"
   ]
  },
  {
   "cell_type": "markdown",
   "id": "e4e3e485",
   "metadata": {},
   "source": [
    "## I. Réalisation des algorithmes\n",
    "\n",
    "Dans cette partie, nous allons implémenter les fonctions de régression à partir de zéro (from scratch). \n",
    "Cela va nous permettre à comprendre COMMENT les algorithmes fonctionnent : leurs complexités (temporelles et spatiales) et leurs paramètres.\n",
    "Pour ce faire, nous allons utiliser la bibliothèque **numpy** qui est utile dans les calcules surtout matricielles.\n",
    "\n",
    "### I.1. Régression linéaire\n",
    "\n",
    "Premièrement, nous allons implémenter les fonctions nécessaire pour la régression linéaire.\n",
    "\n",
    "#### I.1.1. Fonction de prédiction\n",
    "\n",
    "$$Z = zf(X, theta) = \\theta_0 + \\sum\\limits_{j=1}^{N} \\theta_j X_j = \\sum\\limits_{j=0}^{N} \\theta_j X_j | X_0 = 1 $$\n",
    "\n",
    "- **X[M, N]** : une matrice de M échantillons et N caractéristiques. Afin d'introduire $\\theta_0$, cette matrice est augmentée par une colonne $X_0 = 1$. Supposons que cela est déjà fait. Donc, la caractéristique 0  est le biais.\n",
    "- **$\\theta$[N]** : un vecteur des paramètres (poids des caractéristiques).\n",
    "- **Z(X, $\\theta$)[M]** : un vecteur des préditions de chaque échantillon."
   ]
  },
  {
   "cell_type": "code",
   "execution_count": 12,
   "id": "535fe535",
   "metadata": {},
   "outputs": [
    {
     "data": {
      "text/plain": [
       "array([1. , 1.7, 2.4])"
      ]
     },
     "execution_count": 12,
     "metadata": {},
     "output_type": "execute_result"
    }
   ],
   "source": [
    "# TODO: Combinaison linéaire\n",
    "def zf(X: np.ndarray, Theta: np.ndarray) -> np.ndarray:\n",
    "    return np.dot(X,Theta)\n",
    "\n",
    "#=====================================================================\n",
    "# TEST UNITAIRE\n",
    "#=====================================================================\n",
    "# Resultat : array([1. , 1.7, 2.4])\n",
    "#---------------------------------------------------------------------\n",
    "X_t = np.array([[1., 100.], [1., 200.], [1., 300.]])\n",
    "Theta_t = np.array([0.3, 0.007])\n",
    "zf(X_t, Theta_t)"
   ]
  },
  {
   "cell_type": "markdown",
   "id": "42a9aaa1",
   "metadata": {},
   "source": [
    "#### I.1.2. Fonction du coût\n",
    "\n",
    "La fonction du coût calcule l'erreur d'estimation. \n",
    "Ici, nous allons utiliser l'erreur quadratique moyenne (MSE: mean square error). \n",
    "\n",
    "$$J = MSE(Y, H) = \\frac{1}{2M} \\sum\\limits_{i=1}^{M} (Y - H)^2$$\n",
    "\n",
    "- **Y[M]** : un vecteur des sorties réelles.\n",
    "- **H[M]** : un vecteur des prédictions où $H = Z(X, \\theta)$.\n",
    "- **MSE(Y, H)** : une valeur réelle représentant l'erreur de régression."
   ]
  },
  {
   "cell_type": "code",
   "execution_count": 13,
   "id": "b4cde1fe",
   "metadata": {},
   "outputs": [
    {
     "data": {
      "text/plain": [
       "0.016666666666666673"
      ]
     },
     "execution_count": 13,
     "metadata": {},
     "output_type": "execute_result"
    }
   ],
   "source": [
    "# TODO: Fonction du coût MSE\n",
    "def MSE(Y: np.ndarray, H: np.ndarray) -> float:\n",
    "    return (np.sum((Y-H)**2))/(2*len(Y))\n",
    "\n",
    "#=====================================================================\n",
    "# TEST UNITAIRE\n",
    "#=====================================================================\n",
    "# Resultat : 0.016666666666666673\n",
    "#---------------------------------------------------------------------\n",
    "H_t = np.array([1. , 1.7, 2.4])\n",
    "Y_t = np.array([1., 2., 2.5])\n",
    "MSE(Y_t, H_t)"
   ]
  },
  {
   "cell_type": "markdown",
   "id": "e543323b",
   "metadata": {},
   "source": [
    "Le gradient de cette fonction est calculé comme suit (Où $X^{(i)}$ est l'échantillon $i$ et $Y^{(i)}$ est la prédiction. $X_0^{(i)} = 1$) : \n",
    "\n",
    "$$\\frac{\\partial MSE}{\\partial \\theta_j} \n",
    "= \\frac{\\partial }{\\partial \\theta_j} \\frac{1}{2M} \\sum\\limits_{i=1}^{M} (Y^{(i)} - H^{(i)})^2 \n",
    "= \\frac{1}{2M} \\sum\\limits_{i=1}^{M} [\\frac{\\partial }{\\partial \\theta_j} (Y^{(i)} - H^{(i)})^2]\n",
    "= \\frac{1}{2M} \\sum\\limits_{i=1}^{M} [-2 (Y^{(i)} - H^{(i)}) \\frac{\\partial }{\\partial \\theta_j} H^{(i)}]\n",
    "$$\n",
    "\n",
    "$$\\frac{\\partial MSE}{\\partial \\theta_j}\n",
    "= \\frac{1}{M} \\sum\\limits_{i=1}^{M} [(H^{(i)} - Y^{(i)}) \\frac{\\partial }{\\partial \\theta_j} \\sum\\limits_{k=0}^{N} \\theta_k X_k^{(i)}]\n",
    "= \\frac{1}{M} \\sum\\limits_{i=1}^{M} [(H^{(i)} - Y^{(i)}) \\frac{\\partial }{\\partial \\theta_j} \\theta_j X_j^{(i)}]\n",
    "$$\n",
    "\n",
    "$$\\frac{\\partial MSE}{\\partial \\theta_j} = \\frac{1}{M} \\sum\\limits_{i=1}^{M} (H^{(i)} - Y^{(i)}) X_j^{(i)}$$\n",
    "\n",
    "- **X[M, N]** : une matrice de M échantillons et N caractéristiques. \n",
    "- **Y[M]** : un vecteur des sorties réelles.\n",
    "- **H[M]** : un vecteur des prédictions où $H = Z(X, \\theta)$.\n",
    "- **dMSE(X, Y, H)[N]** : les gradients de chaque caractéristique."
   ]
  },
  {
   "cell_type": "code",
   "execution_count": 14,
   "id": "3f82adf2",
   "metadata": {},
   "outputs": [
    {
     "data": {
      "text/plain": [
       "array([ -0.13333333, -30.        ])"
      ]
     },
     "execution_count": 14,
     "metadata": {},
     "output_type": "execute_result"
    }
   ],
   "source": [
    "# TODO: Fonction des gradients MSE\n",
    "def dMSE(X: np.ndarray, Y: np.ndarray, H: np.ndarray) -> np.ndarray:\n",
    "    \n",
    "    return (np.dot((H-Y),X))/(len(Y))\n",
    "\n",
    "#=====================================================================\n",
    "# TEST UNITAIRE\n",
    "#=====================================================================\n",
    "# Resultat : array([ -0.13333333, -30.        ])\n",
    "#---------------------------------------------------------------------\n",
    "X_t = np.array([[1., 100.], [1., 200.], [1., 300.]])\n",
    "H_t = np.array([1. , 1.7, 2.4])\n",
    "Y_t = np.array([1., 2., 2.5])\n",
    "dMSE(X_t, Y_t, H_t)"
   ]
  },
  {
   "cell_type": "markdown",
   "id": "68216bd2",
   "metadata": {},
   "source": [
    "### I.2. Régression logistique\n",
    "\n",
    "Ici, nous allons implémenter la régression logistique qui est basée sur la combinaison linéaire de la régression linaire.\n",
    "Il suffit d'appliquer la fonction logistique sur cette combinaison afin de la transformer à une probabilité.\n",
    "\n",
    "#### I.2.1. Fonction de prédiction\n",
    "\n",
    "La fonction logistique est calculée comme suit :\n",
    "\n",
    "$$\\sigma(Z) = \\frac{1}{1+e^{-Z}}$$\n",
    "\n",
    "- **Z[M]** : un vecteur des sommes pondérées $Z(X, \\theta)$.\n",
    "- **$\\sigma$(Z)[M]** : un vecteur des prédictions. \n",
    "- Normalement, cette fonction doit marcher avec un scalaire, un vecteur ou une matrice. Pour l'instant, nous nous intéressons par le cas d'un vecteur."
   ]
  },
  {
   "cell_type": "code",
   "execution_count": 15,
   "id": "cc7b9af1",
   "metadata": {},
   "outputs": [
    {
     "data": {
      "text/plain": [
       "array([0.26894142, 0.73105858])"
      ]
     },
     "execution_count": 15,
     "metadata": {},
     "output_type": "execute_result"
    }
   ],
   "source": [
    "# TODO: Fonction logistique\n",
    "def sg(Z: np.ndarray) -> np.ndarray: \n",
    "    return np.ones(1)/(np.ones(1)+np.exp(-Z))\n",
    "\n",
    "#=====================================================================\n",
    "# TEST UNITAIRE\n",
    "#=====================================================================\n",
    "# Resultat : array([0.26894142, 0.73105858])\n",
    "#---------------------------------------------------------------------\n",
    "sg(np.array([-1, 1]))"
   ]
  },
  {
   "cell_type": "markdown",
   "id": "22dc6e90",
   "metadata": {},
   "source": [
    "La fonction de prédiction sera :\n",
    "\n",
    "$$H(X, \\theta) = \\sigma(Z(X, \\theta)) $$\n",
    "\n",
    "- **X[M, N]** : une matrice de M échantillons et N caractéristiques.\n",
    "- **$\\theta$[N]** : un vecteur des paramètres (poids des caractéristiques).\n",
    "- **Z(X, $\\theta$)[M]** : un vecteur des sommes pondérées de chaque échantillon.\n",
    "- **H(X, $\\theta$)[M]** : un vecteur des prédictions de chaque échantillon."
   ]
  },
  {
   "cell_type": "code",
   "execution_count": 16,
   "id": "85d16e75",
   "metadata": {},
   "outputs": [
    {
     "data": {
      "text/plain": [
       "array([0.73105858, 0.55724785, 0.14185106])"
      ]
     },
     "execution_count": 16,
     "metadata": {},
     "output_type": "execute_result"
    }
   ],
   "source": [
    "# TODO: Fonction de prédiction (régression logistique)\n",
    "def Hf_log(X: np.ndarray, Theta: np.ndarray) -> np.ndarray:\n",
    "    return sg(zf(X,Theta))\n",
    "\n",
    "#=====================================================================\n",
    "# TEST UNITAIRE\n",
    "#=====================================================================\n",
    "# Resultat : array([0.73105858, 0.55724785, 0.14185106])\n",
    "#---------------------------------------------------------------------\n",
    "X_t = np.array([[1., -100.], [1., 10.], [1., 300.]])\n",
    "Theta_t = np.array([0.3, -0.007])\n",
    "Hf_log(X_t, Theta_t)"
   ]
  },
  {
   "cell_type": "markdown",
   "id": "e146af18",
   "metadata": {},
   "source": [
    "#### I.2.2. Fonction du coût\n",
    "\n",
    "Ici, nous allons utiliser l'entropie croisée binaire (BCE: Binary Cross Entropy Loss) comme fonction du coût.\n",
    "C'est la fontion utilisée dans le cas de classement binaire.\n",
    "\n",
    "$$BCE(Y^{(i)}, H^{(i)})\n",
    "= \\begin{cases}\n",
    "- \\log(H^{(i)}) & \\text{ si } Y^{(i)} = 1\\\\ \n",
    "- \\log(1 - H^{(i)})  & \\text{ si } Y^{(i)} = 0\n",
    "\\end{cases}\n",
    "$$\n",
    "Puisque $Y^{(i)} \\in \\{0, 1\\}$, donc : \n",
    "\n",
    "$$ BCE(Y^{(i)}, H^{(i)}) = - Y^{(i)} \\log(H^{(i)}) - (1- Y^{(i)}) \\log(1 - H^{(i)}) $$\n",
    "\n",
    "$$J = BCE(Y, H) = \\frac{-1}{M} \\sum\\limits_{i=1}^{M} [Y^{(i)} \\log(H^{(i)}) + (1- Y^{(i)}) \\log(1 - H^{(i)})]$$\n",
    "\n",
    "En pratique, on doit ajouter une petite valeur $\\epsilon$ à l'argument de la fonction $\\log$ afin d'éviter $\\log(0)$.\n",
    "\n",
    "- **Y[M]** : un vecteur des sorties réelles.\n",
    "- **H[M]** : un vecteur des prédictions.\n",
    "- **BCE(Y, H)** : une valeur réelle représentant l'erreur de classement."
   ]
  },
  {
   "cell_type": "code",
   "execution_count": 17,
   "id": "d315971c",
   "metadata": {},
   "outputs": [
    {
     "data": {
      "text/plain": [
       "(array([0.61812103]), array([0.61812101]))"
      ]
     },
     "execution_count": 17,
     "metadata": {},
     "output_type": "execute_result"
    }
   ],
   "source": [
    "# TODO: Fonction du coût BCE\n",
    "def BCE(Y: np.ndarray, H: np.ndarray, eps: float =1e-8) -> float: \n",
    "    return -np.ones(1)/len(Y)*(Y.dot(np.log(H+eps))+(np.ones(1)-Y).dot(np.log(np.ones(1)-H+eps)))\n",
    "\n",
    "#=====================================================================\n",
    "# TEST UNITAIRE\n",
    "#=====================================================================\n",
    "# Resultat (sans epsilon, avec) : (0.6181210324473608, 0.61812101133625)\n",
    "#---------------------------------------------------------------------\n",
    "Y_t = np.array([1., 0., 0., 1.])\n",
    "H_t = np.array([0.25, 0.25, 0.5, 0.9])\n",
    "BCE(Y_t, H_t, eps=0), BCE(Y_t, H_t)"
   ]
  },
  {
   "cell_type": "code",
   "execution_count": 21,
   "id": "866b56c5",
   "metadata": {},
   "outputs": [
    {
     "data": {
      "text/plain": [
       "1.0"
      ]
     },
     "execution_count": 21,
     "metadata": {},
     "output_type": "execute_result"
    }
   ],
   "source": [
    "np.log(np.exp(1))"
   ]
  },
  {
   "cell_type": "markdown",
   "id": "2e251194",
   "metadata": {},
   "source": [
    "Le gradient de cette fonction est calculé comme suit : \n",
    "\n",
    "$$\\frac{\\partial BCE}{\\partial \\theta_j} \n",
    "= \\frac{-1}{M} \\sum\\limits_{i=1}^{M} \\frac{\\partial}{\\partial \\theta_j} [Y^{(i)} \\log(H^{(i)}) + (1- Y^{(i)}) \\log(1 - H^{(i)})]\n",
    "$$\n",
    "\n",
    "$$\\frac{\\partial BCE}{\\partial \\theta_j} \n",
    "= \\frac{-1}{M} \\sum\\limits_{i=1}^{M} [ Y^{(i)} \\frac{\\partial}{\\partial \\theta_j} \\log(H^{(i)}) + (1- Y^{(i)}) \\frac{\\partial}{\\partial \\theta_j}\\log(1 - H^{(i)})]\n",
    "$$\n",
    "\n",
    "$$\\frac{\\partial BCE}{\\partial \\theta_j} \n",
    "= \\frac{-1}{M} \\sum\\limits_{i=1}^{M} [ Y^{(i)} \\frac{1}{H^{(i)}} \\frac{\\partial}{\\partial \\theta_j} H^{(i)} + (1- Y^{(i)}) \\frac{-1}{1-H^{(i)}} \\frac{\\partial}{\\partial \\theta_j} H^{(i)})]\n",
    "= \\frac{-1}{M} \\sum\\limits_{i=1}^{M} \\frac{Y^{(i)}-H^{(i)}}{H^{(i)}(1-H^{(i)})} \\frac{\\partial}{\\partial \\theta_j} H^{(i)}\n",
    "$$\n",
    "\n",
    "$$\\frac{\\partial H^{(i)}}{\\partial \\theta_j} \n",
    "= \\frac{\\partial \\sigma(Z^{(i)})}{\\partial Z^{(i)}} \\frac{\\partial Z^{(i)}}{\\partial \\theta_j} \n",
    "= [\\sigma(Z^{(i)}) (1-\\sigma(Z^{(i)}))]\\frac{\\partial}{\\partial \\theta_j} \\sum\\limits_{k=0}^{N} \\theta_k X_k^{(i)}  \n",
    "= H^{(i)} (1-H^{(i)})  X_j^{(i)}\n",
    "$$\n",
    "\n",
    "$$\\frac{\\partial BCE}{\\partial \\theta_j} \n",
    "= \\frac{-1}{M} \\sum\\limits_{i=1}^{M} \\frac{Y^{(i)}-H^{(i)}}{H^{(i)}(1-H^{(i)})} [H^{(i)} (1-H^{(i)}) X_j^{(i)}]\n",
    "$$\n",
    "\n",
    "$$\\frac{\\partial BCE}{\\partial \\theta_j} = \\frac{1}{M} \\sum\\limits_{i=1}^{M} (H^{(i)} - Y^{(i)}) X_j^{(i)}$$\n",
    "\n",
    "- \n",
    "Où $X^{(i)}$ est l'échantillon $i$ et $Y^{(i)}$ est la prédiction. $X_0^{(i)} = 1$"
   ]
  },
  {
   "cell_type": "code",
   "execution_count": 18,
   "id": "49495c49",
   "metadata": {},
   "outputs": [
    {
     "data": {
      "text/plain": [
       "array([-0.08333333, -0.25      ])"
      ]
     },
     "execution_count": 18,
     "metadata": {},
     "output_type": "execute_result"
    }
   ],
   "source": [
    "# La fonction de gradient BCE est la même que celle de MSE\n",
    "# Donc, je vais l'implémenter moi-même puisque c'est facile\n",
    "dBCE = dMSE\n",
    "\n",
    "#=====================================================================\n",
    "# TEST UNITAIRE\n",
    "#=====================================================================\n",
    "# Resultat : array([-0.08333333, -0.25      ])\n",
    "#---------------------------------------------------------------------\n",
    "X_t = np.array([[1., 5.], [1., 10.], [1., 8]])\n",
    "H_t = np.array([2.75, 5.25, 4.25])\n",
    "Y_t = np.array([3., 5., 4.5])\n",
    "dMSE(X_t, Y_t, H_t)"
   ]
  },
  {
   "cell_type": "markdown",
   "id": "d589d278",
   "metadata": {},
   "source": [
    "### I.3. Descente du gradient \n",
    "\n",
    "**Rien à programmer ici**\n",
    "\n",
    "Dans cette fonction, nous allons itérer jusqu'à arriver au nombre max des itérations (pas d'autres conditions d'arrêt).\n",
    "\n",
    "- **X[M, N]** : une matrice de M échantillons et N caractéristiques.\n",
    "- **Y[M]** : un vecteur des sorties réelles.\n",
    "- **$\\theta$[N]** : un vecteur des paramètres (poids des caractéristiques).\n"
   ]
  },
  {
   "cell_type": "code",
   "execution_count": 19,
   "id": "0e909e86",
   "metadata": {},
   "outputs": [
    {
     "data": {
      "text/plain": [
       "(array([ 0.66487158, -0.1265281 ,  0.93802309]), array([0.68519693]))"
      ]
     },
     "execution_count": 19,
     "metadata": {},
     "output_type": "execute_result"
    }
   ],
   "source": [
    "# La fonction de la descente du gradient\n",
    "def descente(X: np.ndarray, Y: np.ndarray, Theta: np.ndarray, # arguments obligatoires\n",
    "             it_max:   int = 100   , # nombre maximal des itérations\n",
    "             alpha:  float = 0.01  , # taux d'apprentissage\n",
    "             Hf:  Callable = Hf_log, # la fonction qui calule la sortie\n",
    "             Jf:  Callable = BCE   , # la fonction du coût\n",
    "             dJf: Callable = dBCE    # la fonction du gradient\n",
    "            ) -> Tuple[List[np.ndarray], List[float]]: \n",
    "     \n",
    "    couts  = []           # historique des coûts\n",
    "    Thetas = []           # historique des thetas\n",
    "    Theta  = Theta.copy() # une copie pour garder le contenu de Theta original\n",
    "    \n",
    "    # Ici, on boucle jusqu'à arriver aux maximum des itérations\n",
    "    for it in range(it_max):\n",
    "        H        = Hf (X, Theta)       # estimer la sortie\n",
    "        J        = Jf (Y, H    )       # calculer le coût\n",
    "        dJ       = dJf(X, Y, H )       # calculer les gradients\n",
    "        Theta    = Theta - alpha * dJ  # mettre à jour Theta\n",
    "        couts .append(J)               # stocker le coût courant\n",
    "        Thetas.append(Theta.copy())    # stocker les Thetas courants\n",
    "    \n",
    "    return Thetas, couts\n",
    "\n",
    "#=====================================================================\n",
    "# TEST UNITAIRE\n",
    "#=====================================================================\n",
    "# Resultat : (array([ 0.66487158, -0.1265281 ,  0.93802309]), 0.6851969300532375)\n",
    "#---------------------------------------------------------------------\n",
    "\n",
    "X_t = np.array([\n",
    "    [1, 1, 0.2],\n",
    "    [1, 2, 0.1],\n",
    "    [1, 3, 0.4],\n",
    "    [1, 4, 0.3]\n",
    "])\n",
    "\n",
    "Theta_t = np.array([1., 1., 1.])\n",
    "\n",
    "Y_t = np.array([1, 0, 1, 0])\n",
    "\n",
    "Theta_P, J_P = descente(X_t, Y_t, Theta_t)\n",
    "\n",
    "Theta_P[-1], J_P[-1]"
   ]
  },
  {
   "cell_type": "markdown",
   "id": "4f01017b",
   "metadata": {},
   "source": [
    "### I.4. Regrouper les fonctions \n",
    "\n",
    "**Rien à programmer ici**\n",
    "\n",
    "Nous voulons créer une classe qui supporte la régression linéaire et la régression logistique.\n"
   ]
  },
  {
   "cell_type": "code",
   "execution_count": 20,
   "id": "c118ece3",
   "metadata": {},
   "outputs": [
    {
     "data": {
      "text/plain": [
       "array([0.86383643, 0.5273866 , 0.96123235])"
      ]
     },
     "execution_count": 20,
     "metadata": {},
     "output_type": "execute_result"
    }
   ],
   "source": [
    "# la fonction de normalisation\n",
    "# X: un vecteur de M échantillons et N caractéristiques\n",
    "# mean: un vecteur de N nombres qui représentent les moyennes des caractéristiques\n",
    "# std: un vecteur de N nombres qui représentent les écarts types des caractéristiques\n",
    "# si mean et std ne sont pas donnés, ils vont êtres calculés à partir de X\n",
    "def normaliser(X, mean=None, std=None): \n",
    "    if (mean is None) or (std is None): \n",
    "        mean = np.mean(X, axis=0) \n",
    "        std  = np.std (X, axis=0)\n",
    "    X_norm = np.where(std==0, X, (X - mean)/std)\n",
    "    return X_norm, mean, std\n",
    "\n",
    "def preparer(X, norm=True, const=True, mean=None, std=None): \n",
    "    X_pre = X.copy()\n",
    "    if norm: \n",
    "        X_pre, mean, std = normaliser(X_pre, mean=mean, std=std)\n",
    "    if const:\n",
    "        X_pre = np.append(np.ones((X_pre.shape[0], 1)), X_pre, axis=1)\n",
    "    return X_pre, mean, std\n",
    "\n",
    "def generer_zeros_1(nbr):\n",
    "    return np.zeros(nbr)\n",
    "\n",
    "def generer_uns_1(nbr):\n",
    "    return np.ones(nbr)\n",
    "\n",
    "def generer_aleatoire_1(nbr):\n",
    "    return np.random.rand(nbr)\n",
    "\n",
    "\n",
    "class Regression(object):\n",
    "    def __init__(self, alpha=.01, log=True, norm=True, const=True): \n",
    "        \n",
    "        self.norm  = norm\n",
    "        self.const = const\n",
    "        self.alpha = alpha\n",
    "        self.log   = log\n",
    "        \n",
    "        if log: # Régression logistique\n",
    "            self.Hf  = Hf_log \n",
    "            self.Jf  = BCE\n",
    "            self.dJf = dBCE\n",
    "        else: # Régression linéaire\n",
    "            self.Hf  = zf\n",
    "            self.Jf  = MSE\n",
    "            self.dJf = dMSE\n",
    "        \n",
    "    \n",
    "    def entrainer(self, X, Y, nbr_iter=100): \n",
    "        X_pre, self.mean, self.std = preparer(X, norm=self.norm, const=self.const)\n",
    "        Theta = generer_uns_1(X_pre.shape[1])# Supposons, les paramètres sont initialisés à 1\n",
    "        self.Thetas, self.couts = descente(X_pre, Y, Theta, \n",
    "                                           it_max = nbr_iter, \n",
    "                                           alpha  = self.alpha, # arguments de régularisation\n",
    "                                           Hf     = self.Hf, # fonction logistique\n",
    "                                           Jf     = self.Jf,\n",
    "                                           dJf    = self.dJf\n",
    "                                          )\n",
    "        \n",
    "    # La prédiction\n",
    "    # si classes=True elle rend un vecteur de 1 et 0\n",
    "    # sinon elle rend un vecteur de probabilités\n",
    "    def predire(self, X, classes=True, seuil=0.5):\n",
    "        X_pre, _, _ = preparer(X, \n",
    "                               norm  = self.norm, \n",
    "                               const = self.const, \n",
    "                               mean  = self.mean, \n",
    "                               std   = self.std\n",
    "                              )\n",
    "        H = self.Hf(X_pre, self.Thetas[-1])\n",
    "        if self.log and classes:\n",
    "            return (H >= seuil).astype(int)\n",
    "        return H\n",
    "\n",
    "#=====================================================================\n",
    "# TEST UNITAIRE\n",
    "#=====================================================================\n",
    "# Resultat : array([0.86383643, 0.5273866 , 0.96123235])\n",
    "#---------------------------------------------------------------------\n",
    "\n",
    "X_t = np.array([\n",
    "    [100, 20],\n",
    "    [200, 10],\n",
    "    [300, 40],\n",
    "    [400, 30]\n",
    "])\n",
    "\n",
    "Y_t = np.array([1, 0, 1, 0])\n",
    "\n",
    "# logistique\n",
    "reglog = Regression()\n",
    "reglog.entrainer(X_t, Y_t)\n",
    "\n",
    "reglog.Thetas[-1]"
   ]
  },
  {
   "cell_type": "markdown",
   "id": "72549831",
   "metadata": {},
   "source": [
    "## II. Application et analyse\n",
    "\n",
    "Cette partie sert à appliquer les algorithmes, modifier les hyper-paramètres et analyser les résultats.\n",
    "Son but est de comprendre comment les hyper-paramètres peuvent affeter le fonctionnement d'un algorithme.\n",
    "\n",
    "### II.1. Régression linéaire\n",
    "\n",
    "Pour tester la régression linéaire, nous allons essayer d'estimer les prix des maisons en se basant sur leurs superficies.\n",
    "Pour ce faire, nous allons diviser notre dataset en deux : 80% pour l'entraînement et 20% pour le test (nous avons désactivé la dividion aléatoire afin d'avoir les mêmes résultats à chaque exécution)."
   ]
  },
  {
   "cell_type": "code",
   "execution_count": 48,
   "id": "f3def278",
   "metadata": {},
   "outputs": [
    {
     "data": {
      "text/html": [
       "<div>\n",
       "<style scoped>\n",
       "    .dataframe tbody tr th:only-of-type {\n",
       "        vertical-align: middle;\n",
       "    }\n",
       "\n",
       "    .dataframe tbody tr th {\n",
       "        vertical-align: top;\n",
       "    }\n",
       "\n",
       "    .dataframe thead th {\n",
       "        text-align: right;\n",
       "    }\n",
       "</style>\n",
       "<table border=\"1\" class=\"dataframe\">\n",
       "  <thead>\n",
       "    <tr style=\"text-align: right;\">\n",
       "      <th></th>\n",
       "      <th>Superficie</th>\n",
       "      <th>Prix</th>\n",
       "    </tr>\n",
       "  </thead>\n",
       "  <tbody>\n",
       "    <tr>\n",
       "      <th>0</th>\n",
       "      <td>2104</td>\n",
       "      <td>399900</td>\n",
       "    </tr>\n",
       "    <tr>\n",
       "      <th>1</th>\n",
       "      <td>1600</td>\n",
       "      <td>329900</td>\n",
       "    </tr>\n",
       "    <tr>\n",
       "      <th>2</th>\n",
       "      <td>2400</td>\n",
       "      <td>369000</td>\n",
       "    </tr>\n",
       "    <tr>\n",
       "      <th>3</th>\n",
       "      <td>1416</td>\n",
       "      <td>232000</td>\n",
       "    </tr>\n",
       "    <tr>\n",
       "      <th>4</th>\n",
       "      <td>3000</td>\n",
       "      <td>539900</td>\n",
       "    </tr>\n",
       "  </tbody>\n",
       "</table>\n",
       "</div>"
      ],
      "text/plain": [
       "   Superficie    Prix\n",
       "0        2104  399900\n",
       "1        1600  329900\n",
       "2        2400  369000\n",
       "3        1416  232000\n",
       "4        3000  539900"
      ]
     },
     "execution_count": 48,
     "metadata": {},
     "output_type": "execute_result"
    }
   ],
   "source": [
    "header = ['Superficie', 'Prix']\n",
    "houses = pd.read_csv('data/houses.csv', names=header)\n",
    "houses.head()"
   ]
  },
  {
   "cell_type": "code",
   "execution_count": 49,
   "id": "6068aada",
   "metadata": {},
   "outputs": [
    {
     "data": {
      "text/plain": [
       "(37, 10)"
      ]
     },
     "execution_count": 49,
     "metadata": {},
     "output_type": "execute_result"
    }
   ],
   "source": [
    "from sklearn.model_selection import train_test_split  \n",
    "\n",
    "Xhouses = houses.iloc[:, :-1].values # Premières colonnes \n",
    "Yhouses = houses.iloc[:,  -1].values # Dernière colonne \n",
    "\n",
    "Xhouses_train, Xhouses_test, Yhouses_train, Yhouses_test = train_test_split(Xhouses, Yhouses, \n",
    "                                                                            test_size    = 0.2, \n",
    "                                                                            random_state = 0\n",
    "                                                                           )  \n",
    "\n",
    "len(Xhouses_train), len(Xhouses_test)"
   ]
  },
  {
   "cell_type": "markdown",
   "id": "c71e2488",
   "metadata": {},
   "source": [
    "#### II.1.1. Taux d'apprentissage et convergence \n",
    "\n",
    "Ici, nous avons varié le taux d'apprentissage et affiché les courbes de la fonction objective en fonction de nombre d'itérations. \n",
    "Nous voulons tester l'effet du taux d'apprentissage sur la convergence de notre modèle de régression.\n"
   ]
  },
  {
   "cell_type": "code",
   "execution_count": 51,
   "id": "7a34a29a",
   "metadata": {},
   "outputs": [
    {
     "data": {
      "image/png": "[encoded data removed]",
      "text/plain": [
       "<Figure size 432x288 with 1 Axes>"
      ]
     },
     "metadata": {
      "needs_background": "light"
     },
     "output_type": "display_data"
    }
   ],
   "source": [
    "ITMAX  = 100\n",
    "alphas = [1., 0.1, 0.01, 0.001]\n",
    "\n",
    "# Création et entraînement des nouveaux modèles de régression linéaire\n",
    "for alpha in alphas:\n",
    "    # Création d'un nouveau modèle de régression linéaire\n",
    "    modele = Regression(alpha=alpha, log=False)\n",
    "    # Entraînement du modèle\n",
    "    modele.entrainer(Xhouses_train, Yhouses_train, nbr_iter=ITMAX)\n",
    "    # Visualisation de la convergence\n",
    "    plt.plot(modele.couts, label = 'alpha=' + str(alpha))\n",
    "    \n",
    "plt.xlabel('Nombre des itérations')\n",
    "plt.ylabel('Coût')\n",
    "plt.legend()\n",
    "plt.autoscale()\n",
    "plt.show()"
   ]
  },
  {
   "cell_type": "markdown",
   "id": "eb7143a3",
   "metadata": {},
   "source": [
    "**TODO: Analyser les résultats**\n",
    "\n",
    "- Que remarquez-vous ? (Il faut décrire les résultats).\n",
    "- Donner une hypothèse concernant le rapport entre le taux et la vitesse de convergence.\n",
    "- Essayer de justifier cette hypothèse par ce que vous avez vu en cours.\n",
    "- Pourquoi nous ne devons pas utiliser un taux égale à 1 avec seulement une itération en pratique (quel est le risque) ?\n",
    "\n",
    "**Réponse**\n",
    "\n",
    "- La vitesse de convergence dépend du taux d'apprentissage \n",
    "- La vitesse de convergence augmente avec l'augmentation du taux d'apprentissage alpha : v=f(alpha) \n",
    "- Le taux d'apprentissage représente le pas de descente du gradient, en augmentant alpha, on arrive plus rapidement vers la valeur optimale. \n",
    "- Le risque est de passer l'optimum et jamais l'atteindre, dans ce cas, nous avons atteint l'optimum en une seule itération par hasard."
   ]
  },
  {
   "cell_type": "markdown",
   "id": "198937fb",
   "metadata": {},
   "source": [
    "#### II.1.2. Qualité de prediction \n",
    "\n",
    "Ici, nous voulons tester la qualité de prédiction de la régression linéaire : est-ce qu'elle estime les sorties d'une manière exacte ou au moins d'une manière rapprochée. \n",
    "Pour ce faire, nous avons entraîné notre modèle sur les données d'entraînement (en bleu). \n",
    "Ensuite, nous avons essayé d'estimer les résultats de test (en vert : les sorties réelles ; en magenta : les sorties estimées)."
   ]
  },
  {
   "cell_type": "code",
   "execution_count": 52,
   "id": "8488257f",
   "metadata": {},
   "outputs": [
    {
     "data": {
      "image/png": "[encoded data removed]",
      "text/plain": [
       "<Figure size 432x288 with 1 Axes>"
      ]
     },
     "metadata": {
      "needs_background": "light"
     },
     "output_type": "display_data"
    }
   ],
   "source": [
    "from sklearn.linear_model  import LinearRegression\n",
    "from sklearn.preprocessing import StandardScaler\n",
    "from sklearn.pipeline      import make_pipeline\n",
    "\n",
    "# Entraînement d'un modèle de régression linéaire \n",
    "regresseur1 = make_pipeline(StandardScaler(with_mean=False), LinearRegression())\n",
    "regresseur1.fit(Xhouses_train, Yhouses_train)\n",
    "\n",
    "Yhouses_pred = regresseur1.predict(Xhouses_test )\n",
    "Yhouses_line = regresseur1.predict(Xhouses_train)  \n",
    "\n",
    "# Visualiser la distribution des données d'entraînement et de test\n",
    "# Aussi, la ligne de prédiction et la prédiction du dataset de test\n",
    "plt.scatter(Xhouses_train, Yhouses_train, color='blue'  , label = 'entrainement'      )\n",
    "plt.scatter(Xhouses_test , Yhouses_test , color='green' , label = 'test'              )\n",
    "plt.plot   (Xhouses_train, Yhouses_line , color='red'   , label = 'line de prediction')\n",
    "plt.scatter(Xhouses_test , Yhouses_pred , color='violet', label = 'prediction'        )\n",
    "plt.xlabel('Superficie')\n",
    "plt.ylabel('Prix')\n",
    "plt.legend()\n",
    "plt.show()"
   ]
  },
  {
   "cell_type": "markdown",
   "id": "f564015a",
   "metadata": {},
   "source": [
    "**TODO: Analyser les résultats**\n",
    "\n",
    "- Est-ce que la régression linéaire peut prédire exactement les valeurs Y ?\n",
    "- Pourquoi ?\n",
    "\n",
    "**Réponse**\n",
    "\n",
    "- Non\n",
    "- Car les valeurs réelles de test ne sont pas sur la ligne du modèle de régression linéaire qui représente les valeurs prédites du modèle."
   ]
  },
  {
   "cell_type": "markdown",
   "id": "0b0664ed",
   "metadata": {},
   "source": [
    "#### II.1.3. Qualité de prédiction avec plus de caractéristiques\n",
    "\n",
    "Nous voulons tester si l'utilisation de plusieurs caracétristiques peut améliorer la prédiction. \n",
    "Aussi, nous voulons tester la régression polynomiale (qui est une régression linéaire avec les interractions des aractéristiques). \n",
    "Pour ce faire, nous avons créé de nouvelles caractéristiques pour avoir une régression polynomiale : $X^5$ et $X^{10}$."
   ]
  },
  {
   "cell_type": "code",
   "execution_count": 54,
   "id": "9ead22e3",
   "metadata": {},
   "outputs": [
    {
     "data": {
      "image/png": "[encoded data removed]",
      "text/plain": [
       "<Figure size 432x288 with 1 Axes>"
      ]
     },
     "metadata": {
      "needs_background": "light"
     },
     "output_type": "display_data"
    }
   ],
   "source": [
    "from sklearn.preprocessing import PolynomialFeatures\n",
    "from sklearn.metrics       import mean_squared_error\n",
    "from sklearn.metrics       import mean_absolute_error\n",
    "\n",
    "degres = [5, 10]\n",
    "\n",
    "erreurs_labels = [1] + degres\n",
    "erreurs_mse    = [        mean_squared_error(Yhouses_test, Yhouses_pred) ]\n",
    "erreurs_rmse   = [np.sqrt(mean_squared_error(Yhouses_test, Yhouses_pred))]\n",
    "erreurs_mae    = [        mean_absolute_error(Yhouses_test, Yhouses_pred)]\n",
    "\n",
    "couleurs=['magenta', 'cyan']\n",
    "\n",
    "# Ordonner le dataset en se basant sur la superficie\n",
    "# Ensuite, récupérer la liste des indexes (positions ordonnées)\n",
    "idx = Xhouses_train[:,0].argsort()\n",
    "\n",
    "# Visualiser la distribution des données d'entraînement et de test\n",
    "plt.scatter(Xhouses_train, Yhouses_train, color='blue' , label='entrainement')\n",
    "plt.scatter(Xhouses_test , Yhouses_test , color='green', label='test'        )\n",
    "# Dessiner la ligne de décision\n",
    "plt.plot(Xhouses_train[idx], regresseur1.predict(Xhouses_train[idx]), color='red', label = 'ligne degré=1')\n",
    "\n",
    "# Entraîner des modèles polynomiaux et visualiser leur convergence\n",
    "for i in range(len(degres)):\n",
    "    regresseur = make_pipeline(\n",
    "        PolynomialFeatures(degree=degres[i], include_bias=False), \n",
    "        StandardScaler(with_mean=False),\n",
    "        LinearRegression()\n",
    "    )  \n",
    "    regresseur.fit(Xhouses_train, Yhouses_train)  \n",
    "    plt.plot(\n",
    "        Xhouses_train[idx], \n",
    "        regresseur.predict(Xhouses_train)[idx], \n",
    "        color = couleurs[i],  \n",
    "        label = 'ligne degré=' + str(degres[i])\n",
    "    )\n",
    "    Yhouses_pred = regresseur.predict(Xhouses_test)\n",
    "    mse = mean_squared_error(Yhouses_test, Yhouses_pred)\n",
    "    erreurs_rmse.append(np.sqrt(mse))\n",
    "    erreurs_mse.append(mse)\n",
    "    erreurs_mae.append(mean_absolute_error(Yhouses_test, Yhouses_pred))\n",
    "\n",
    "plt.xlabel('Superficie')\n",
    "plt.ylabel('Prix')\n",
    "plt.legend()\n",
    "plt.show()"
   ]
  },
  {
   "cell_type": "markdown",
   "id": "110f715d",
   "metadata": {},
   "source": [
    "**TODO: Analyser les résultats**\n",
    "\n",
    "- Que remarquez-vous ?\n",
    "\n",
    "**Réponse**\n",
    "\n",
    "- La ligne de degré=10 suit bien les données d'entrainement, et plus on augmente le degré, plus la ligne suit mieux les données d'entrainement, mais cela ne peut pas etre généralisé sur les données de test ."
   ]
  },
  {
   "cell_type": "markdown",
   "id": "378df62a",
   "metadata": {},
   "source": [
    "#### II.1.4. Métriques d'évaluation de la régression\n",
    "\n",
    "Nous allons continuer avec l'expérimentation passée. \n",
    "En plus de notre but, nous voulons aussi comparer les différentes métriques d'évaluation.\n",
    "\n",
    "$$MSE(Y, H) = \\frac{1}{M} \\sum\\limits_{i=1}^{M} (Y - H)^2$$\n",
    "\n",
    "$$RMSE(Y, H) = \\sqrt{MSE(Y, H)}$$\n",
    "\n",
    "$$MAE(Y, H) = \\frac{1}{M} \\sum\\limits_{i=1}^{M} |Y - H|$$"
   ]
  },
  {
   "cell_type": "code",
   "execution_count": 55,
   "id": "4b0412f3",
   "metadata": {},
   "outputs": [
    {
     "data": {
      "text/html": [
       "<div>\n",
       "<style scoped>\n",
       "    .dataframe tbody tr th:only-of-type {\n",
       "        vertical-align: middle;\n",
       "    }\n",
       "\n",
       "    .dataframe tbody tr th {\n",
       "        vertical-align: top;\n",
       "    }\n",
       "\n",
       "    .dataframe thead th {\n",
       "        text-align: right;\n",
       "    }\n",
       "</style>\n",
       "<table border=\"1\" class=\"dataframe\">\n",
       "  <thead>\n",
       "    <tr style=\"text-align: right;\">\n",
       "      <th></th>\n",
       "      <th>Degré</th>\n",
       "      <th>Erreur (MSE)</th>\n",
       "      <th>Erreur (RMSE)</th>\n",
       "      <th>Erreur (MAE)</th>\n",
       "    </tr>\n",
       "  </thead>\n",
       "  <tbody>\n",
       "    <tr>\n",
       "      <th>0</th>\n",
       "      <td>1</td>\n",
       "      <td>5.821821e+09</td>\n",
       "      <td>76300.858343</td>\n",
       "      <td>69100.26362</td>\n",
       "    </tr>\n",
       "    <tr>\n",
       "      <th>1</th>\n",
       "      <td>5</td>\n",
       "      <td>4.717470e+09</td>\n",
       "      <td>68683.844226</td>\n",
       "      <td>59658.56518</td>\n",
       "    </tr>\n",
       "    <tr>\n",
       "      <th>2</th>\n",
       "      <td>10</td>\n",
       "      <td>1.579423e+10</td>\n",
       "      <td>125675.108302</td>\n",
       "      <td>100288.43522</td>\n",
       "    </tr>\n",
       "  </tbody>\n",
       "</table>\n",
       "</div>"
      ],
      "text/plain": [
       "   Degré  Erreur (MSE)  Erreur (RMSE)  Erreur (MAE)\n",
       "0      1  5.821821e+09   76300.858343   69100.26362\n",
       "1      5  4.717470e+09   68683.844226   59658.56518\n",
       "2     10  1.579423e+10  125675.108302  100288.43522"
      ]
     },
     "execution_count": 55,
     "metadata": {},
     "output_type": "execute_result"
    }
   ],
   "source": [
    "pd.DataFrame({\n",
    "    'Degré'         : erreurs_labels,\n",
    "    'Erreur (MSE)'  : erreurs_mse   ,\n",
    "    'Erreur (RMSE)' : erreurs_rmse  ,\n",
    "    'Erreur (MAE)'  : erreurs_mae   ,\n",
    "})"
   ]
  },
  {
   "cell_type": "markdown",
   "id": "760dc3a3",
   "metadata": {},
   "source": [
    "**TODO: Analyser les résultats**\n",
    "\n",
    "- Est-ce que plus de caractéristiques peut améliorer l'estimation ?\n",
    "- Est-ce que plus de caractéristiques doit améliorer l'estimation ?\n",
    "- Pourquoi (justification des deux réponses) ?\n",
    "- Une de ces trois métriques est robuste contre les valeurs aberrantes, laquelle ? pourquoi ?\n",
    "\n",
    "**Réponse**\n",
    "\n",
    "- Oui\n",
    "- Non\n",
    "- Car les caractéristiques peuvent aider l'apprentissage du modèle, et donc une meilleure prédiction\n",
    "- Car les caractéristiques peuvent fausser la prédiction de la sortie (cas des caractéritiques qui n'ont pas d'influence réelle sur la sortie )\n",
    "- MAE est plus robuste que MSE (et RMSE bien évidemment), car l'élévation au carré des erreurs donnera une plus grande importance aux valeurs aberrantes."
   ]
  },
  {
   "cell_type": "markdown",
   "id": "f9e682e6",
   "metadata": {},
   "source": [
    "### II.2. Régression logistique binaire\n",
    "\n",
    "Pour tester la régression logistique, nous allons essayer d'estimer si un étudiant est admis en se basant sur deux notes.\n",
    "Bien sûr, il est admis si la moyenne des deux notes est supérieure ou égale à 10. \n",
    "Dans ce cas, la séparation entre admis et non admis est linèaire.\n",
    "Les données d'entraînement et de test ont été générées automatiquement en utilisant le script joint à ce TP."
   ]
  },
  {
   "cell_type": "code",
   "execution_count": 56,
   "id": "8bcfb731",
   "metadata": {},
   "outputs": [
    {
     "data": {
      "text/html": [
       "<div>\n",
       "<style scoped>\n",
       "    .dataframe tbody tr th:only-of-type {\n",
       "        vertical-align: middle;\n",
       "    }\n",
       "\n",
       "    .dataframe tbody tr th {\n",
       "        vertical-align: top;\n",
       "    }\n",
       "\n",
       "    .dataframe thead th {\n",
       "        text-align: right;\n",
       "    }\n",
       "</style>\n",
       "<table border=\"1\" class=\"dataframe\">\n",
       "  <thead>\n",
       "    <tr style=\"text-align: right;\">\n",
       "      <th></th>\n",
       "      <th>Note1</th>\n",
       "      <th>Note2</th>\n",
       "      <th>Admis</th>\n",
       "    </tr>\n",
       "  </thead>\n",
       "  <tbody>\n",
       "    <tr>\n",
       "      <th>0</th>\n",
       "      <td>9.75</td>\n",
       "      <td>16.00</td>\n",
       "      <td>1</td>\n",
       "    </tr>\n",
       "    <tr>\n",
       "      <th>1</th>\n",
       "      <td>2.25</td>\n",
       "      <td>9.50</td>\n",
       "      <td>0</td>\n",
       "    </tr>\n",
       "    <tr>\n",
       "      <th>2</th>\n",
       "      <td>4.50</td>\n",
       "      <td>2.50</td>\n",
       "      <td>0</td>\n",
       "    </tr>\n",
       "    <tr>\n",
       "      <th>3</th>\n",
       "      <td>15.50</td>\n",
       "      <td>10.25</td>\n",
       "      <td>1</td>\n",
       "    </tr>\n",
       "    <tr>\n",
       "      <th>4</th>\n",
       "      <td>3.25</td>\n",
       "      <td>19.50</td>\n",
       "      <td>1</td>\n",
       "    </tr>\n",
       "  </tbody>\n",
       "</table>\n",
       "</div>"
      ],
      "text/plain": [
       "   Note1  Note2  Admis\n",
       "0   9.75  16.00      1\n",
       "1   2.25   9.50      0\n",
       "2   4.50   2.50      0\n",
       "3  15.50  10.25      1\n",
       "4   3.25  19.50      1"
      ]
     },
     "execution_count": 56,
     "metadata": {},
     "output_type": "execute_result"
    }
   ],
   "source": [
    "notes = pd.read_csv('data/notes.csv')\n",
    "\n",
    "# Extraction des caractéristiques \n",
    "X_notes = notes.iloc[:, :-1].values # Premières colonnes \n",
    "Y_notes = notes.iloc[:,  -1].values # Dernière colonne \n",
    "\n",
    "notes.head()"
   ]
  },
  {
   "cell_type": "markdown",
   "id": "44aea63f",
   "metadata": {},
   "source": [
    "#### II.2.1. Normalisation et convergence \n",
    "\n",
    "Nous voulons tester l'effet de la normalisation sur la vitesse de convergence du modèle.\n",
    "Pour ce faire, nous avons entraîné deux modèles : un sans normalisation et l'autre ave normalisation.\n",
    "\n",
    "**Remarque** : le coût du modèle \"avec normalisation\" n'est pas une ligne horizontale ; il suffit de désactiver l'affichage de l'autre courbe afin de le remarquer."
   ]
  },
  {
   "cell_type": "code",
   "execution_count": 62,
   "id": "b545592b",
   "metadata": {},
   "outputs": [
    {
     "data": {
      "image/png": "[encoded data removed]",
      "text/plain": [
       "<Figure size 432x288 with 1 Axes>"
      ]
     },
     "metadata": {
      "needs_background": "light"
     },
     "output_type": "display_data"
    }
   ],
   "source": [
    "ALPHA = 0.01\n",
    "ITMAX = 200\n",
    "\n",
    "# Création des modèles\n",
    "reg_log_nonorm = Regression(norm=False, alpha=ALPHA, log=True) # sans normalisation\n",
    "reg_log_norm   = Regression(norm=True , alpha=ALPHA, log=True) # avec normalisation\n",
    "\n",
    "# Entraînement des modèles\n",
    "reg_log_nonorm.entrainer(X_notes, Y_notes)\n",
    "reg_log_norm  .entrainer(X_notes, Y_notes)\n",
    "\n",
    "# Visualisation de la convergence\n",
    "plt.plot(reg_log_nonorm.couts, label = 'sans normalisation')\n",
    "plt.plot(reg_log_norm.couts  , label = 'avec normalisation')\n",
    "plt.xlabel('Nombre des itérations')\n",
    "plt.ylabel('Coût')\n",
    "plt.legend()\n",
    "#plt.autoscale()\n",
    "plt.show()"
   ]
  },
  {
   "cell_type": "markdown",
   "id": "12a51ba8",
   "metadata": {},
   "source": [
    "**TODO: Analyser les résultats**\n",
    "\n",
    "- Que remarquez-vous ?\n",
    "- Donner une hypothèse (vitesse de convergence avec normalisation)\n",
    "- Essayer de justifier cette hypothèse par ce que vous avez vu en cours.\n",
    "\n",
    "**Réponse**\n",
    "\n",
    "- Le modèle avec normalisation converge pluuuuuus rapidement que le modèle sans normalisation.\n",
    "- La vitesse de convergence augmente avec la normalisation.\n",
    "- Quand les caractéristiques sont normalisées, la desente du gradient se fera dans un intervalle de données plus réduit, et donc la vitesse des calculs augmente, et on aura une meilleure vitesse de convergence."
   ]
  },
  {
   "cell_type": "markdown",
   "id": "28a7ac5e",
   "metadata": {},
   "source": [
    "#### II.2.2. Complexité du modèle et séparation\n",
    "\n",
    "Nous voulons améliorer la séparation entre les deux classes : \"admis\" et \"non admis\". \n",
    "Pour ce faire, nous avons essayer d'utiliser des caractéristiques complexes : $X^3$ et $X^5$."
   ]
  },
  {
   "cell_type": "code",
   "execution_count": 63,
   "id": "a3f24fc0",
   "metadata": {},
   "outputs": [
    {
     "data": {
      "image/png": "[encoded data removed]",
      "text/plain": [
       "<Figure size 720x360 with 1 Axes>"
      ]
     },
     "metadata": {
      "needs_background": "light"
     },
     "output_type": "display_data"
    }
   ],
   "source": [
    "from sklearn.linear_model import LogisticRegression\n",
    "\n",
    "# ce block du code est pour filtrer les avertissements concernant la convergence du modèle\n",
    "# en général, lorsque e nombre des itérations n'est pas suffisant pour atteindre l'erreur minimale\n",
    "import warnings\n",
    "from sklearn.exceptions import ConvergenceWarning\n",
    "warnings.filterwarnings('ignore', category=ConvergenceWarning)\n",
    "\n",
    "degres = [3, 5]\n",
    "couleurs=['red', 'magenta', 'blue']\n",
    "\n",
    "# Une fonction pour dessiner le plan de séparation binaire étant donnée un modèle\n",
    "# modele : c'est un modèle enttraîné pour la prédiction binaire\n",
    "# ax: un objet de type matplotlib.axes.Axes; les axes sur lesquels on va dessiner\n",
    "# xrange: une liste des points sur l'axe X\n",
    "# yrange: une liste des points sur l'axe Y\n",
    "# couleur: la couleur du dessin (de la ligne de séparation)\n",
    "# label: l'étiquêtte du dessin (la ligne de séparation)\n",
    "def dessiner2D(modele, ax, xrange, yrange, couleur='red', label=''):\n",
    "    # Créer une matrice de (xrange X yrange): notre plan de dessin\n",
    "    XX   = [[[xr, yr] for xr in xrange] for yr in yrange]\n",
    "    # Représenter le sous forme d'une matrice de (xrange X yrange)/2 échantillons et 2 caractéristiques\n",
    "    XX   = np.array(XX).reshape(-1, 2)\n",
    "    # Prédire les probabilités (estimation) et retransformer vers notre plan (xrange X yrange)\n",
    "    grid = modele.predict(XX).reshape(len(xrange), len(yrange))\n",
    "    # Dessiner des lignes qui passent par les valeurs 0.5\n",
    "    cs   = ax.contour(xrange, yrange, grid, colors=[couleur], linewidths=(1), linestyles=('-'),levels=[0.5])\n",
    "    # Affecter l'étiquêtte à la ligne de séparation (qui es un contour dans notre cas)\n",
    "    # plt.clabel(cs, inline=1, fontsize=10)\n",
    "    # cs.collections[0].set_label(label)\n",
    "    fmt = {cs.levels[0]: label}\n",
    "    ax.clabel(cs, cs.levels, inline=True, fmt=fmt, fontsize=14)\n",
    "    \n",
    "\n",
    "\n",
    "X_notes_train = X_notes[:80, :]\n",
    "X_notes_test  = X_notes[80:, :]\n",
    "Y_notes_train = Y_notes[:80   ]\n",
    "Y_notes_test  = Y_notes[80:   ]\n",
    "\n",
    "# Trouver les indexes ordonnées \n",
    "idx2 = X_notes_train[:,0].argsort()\n",
    "\n",
    "# Sélectionner le cas \"admis\" dans l'entraînement et le test\n",
    "oui_train = Y_notes_train == 1\n",
    "oui_test  = Y_notes_test  == 1\n",
    "\n",
    "# Dessiner les cas \"admis\" et \"Non admis\" de l'entraînement et du test\n",
    "fig, ax = plt.subplots(figsize=(10, 5))\n",
    "ax.scatter(X_notes_train[oui_train, 0], \n",
    "           X_notes_train[oui_train, 1], \n",
    "           color='green', marker='o', label='Admis (entrainement)')\n",
    "ax.scatter(X_notes_train[~oui_train, 0], \n",
    "           X_notes_train[~oui_train, 1], \n",
    "           color='green', marker='x', label='Non Admis (entrainement)')\n",
    "ax.scatter(X_notes_test[oui_test, 0], \n",
    "           X_notes_test[oui_test, 1], \n",
    "           color='red', marker='o', label='Admis (test)')\n",
    "ax.scatter(X_notes_test[~oui_test, 0], \n",
    "           X_notes_test[~oui_test, 1], \n",
    "           color='red', marker='x', label='Non Admis (test)')\n",
    "\n",
    "# Créer l'espace des notes : entre 0 et 20 avec une résolution de 50\n",
    "xrange = np.linspace(0, 20, 50) # Note 1\n",
    "yrange = np.linspace(0, 20, 50) # Note 2\n",
    "\n",
    "# Dessiner la ligne de séparation dans une régression linéaire\n",
    "reglog1 = LogisticRegression(penalty='none')\n",
    "reglog1.fit(X_notes_train, Y_notes_train)\n",
    "dessiner2D(reglog1, ax, xrange, yrange, label='X')\n",
    "\n",
    "modeles = [reglog1]\n",
    "\n",
    "# Dessiner la ligne de séparation dans une régression polynomiale\n",
    "# Le modèle dans ce cas est un pipeline qui commence par créer des caractéristiques polynomiales\n",
    "# ensuite passe le résultat vers un modèle de régression logistique\n",
    "for i in range(len(degres)):\n",
    "    modele = make_pipeline(PolynomialFeatures(degree=degres[i], include_bias=False),\n",
    "                           LogisticRegression(penalty='none'))\n",
    "    modele.fit(X_notes_train, Y_notes_train)\n",
    "    dessiner2D(modele, ax, xrange, yrange, couleur=couleurs[i+1], label='X^' + str(degres[i]))\n",
    "    modeles.append(modele)\n",
    "\n",
    "plt.xlabel('Note 1')\n",
    "plt.ylabel('Note 2')\n",
    "plt.legend(loc='upper right')\n",
    "plt.show()"
   ]
  },
  {
   "cell_type": "markdown",
   "id": "dc6b28ab",
   "metadata": {},
   "source": [
    "**TODO: Analyser les résultats**\n",
    "\n",
    "- Que remarquez-vous (les nouveaux modèles ont-ils été capables d'améliorer le modèle initial: l'ajustement/fitting et la généralisation) ? \n",
    "- Donner une hypothèse (Quelle est la raison d'amélioration/détérioration ?) \n",
    "- Essayer de justifier cette hypothèse par ce que vous avez vu en cours.\n",
    "\n",
    "**Réponse**\n",
    "\n",
    "- Les nouveaux modèles (X3, X5) améliorent la prédiction en terme d'ajustement mais pas en terme de généralisation.\n",
    "- Un degrés polynomiale élevé peut causer un sur-ajustement des données d'entrainement ( détérioration du modèle )\n",
    "- Si la frontière de décision est plus compliquée, un polynôme d'ordre supérieur doit être utilisé, mais si la fréquence du polynôme est trop élevée, le phénomène de sur-ajustement peut se produire. Par conséquent, il faut y avoir un bon équilibre entre l'ajustement excessif et l'erreur de formation."
   ]
  },
  {
   "cell_type": "markdown",
   "id": "cec7b167",
   "metadata": {},
   "source": [
    "#### II.2.3. Métriques d'évaluation du classement\n",
    "\n",
    "Nous allons continuer la comparaison entre les trois modèles de classement.\n",
    "Cette fois-ci, nous allons utiliser des métriques d'évaluation, parce que la méthode visuelle n'est pas toujours évidente surtout lorsqu'il y a plusieurs caractéristiques.\n",
    "Nous allons voir les métriques suivants :\n",
    "- Courbe ROC\n",
    "- Exactitude (Accuracy)\n",
    "$$Acc = \\frac{TP + TN}{TP + FP + FN + TN}$$\n",
    "- Précision, Rappel et F1-score\n",
    "$$P = \\frac{TP}{TP + FP}; R = \\frac{TP}{TP + FN}; F1 = \\frac{1}{\\frac{1}{2}\\frac{1}{P} + \\frac{1}{2}\\frac{1}{R}} = \\frac{2 P R}{P + R}$$\n",
    "- Corrélation de matthews\n",
    "$$CCM = \\frac{TP \\times TN - FP \\times FN}{\\sqrt{(TP + FP) (TP + FN) (TN + FP) (TN + FN)}}$$\n",
    "\n",
    "En plus, nous allons comparer ces trois modèles avec d'autres :\n",
    "- Un modèle alèatoire\n",
    "- Un modèle qui retourne toujours des 1 (classe positive)\n",
    "- Un modèle qui retourne toujours des 0 (classe négative)\n",
    "- Un modèle qui retourne l'inverse des sorties réelles"
   ]
  },
  {
   "cell_type": "code",
   "execution_count": 64,
   "id": "03b93a7d",
   "metadata": {},
   "outputs": [
    {
     "data": {
      "text/plain": [
       "(array([0, 1, 1, 0, 0]),\n",
       " array([1., 1., 1., 1., 1.]),\n",
       " array([0., 0., 0., 0., 0.]))"
      ]
     },
     "execution_count": 64,
     "metadata": {},
     "output_type": "execute_result"
    }
   ],
   "source": [
    "\n",
    "class Aleatoire:\n",
    "    def predict(self, X):\n",
    "        return np.random.choice([0,1], size=len(X))\n",
    "    \n",
    "class Pos:\n",
    "    def predict(self, X):\n",
    "        return np.ones(len(X))\n",
    "\n",
    "class Neg:\n",
    "    def predict(self, X):\n",
    "        return np.zeros(len(X))\n",
    "\n",
    "class Inverse:\n",
    "    def predict(self, X):\n",
    "        return 1 - Y_notes_test\n",
    "\n",
    "modeles2 = modeles.copy()\n",
    "modeles2.append(Aleatoire())\n",
    "modeles2.append(Pos      ())\n",
    "modeles2.append(Neg      ())\n",
    "modeles2.append(Inverse  ())\n",
    "\n",
    "X_t = [0,2,3,5,6]\n",
    "\n",
    "modeles2[-4].predict(X_t), modeles2[-3].predict(X_t), modeles2[-2].predict(X_t)"
   ]
  },
  {
   "cell_type": "code",
   "execution_count": 66,
   "id": "4e7b0c59",
   "metadata": {},
   "outputs": [
    {
     "data": {
      "image/png": "[encoded data removed]",
      "text/plain": [
       "<Figure size 432x288 with 1 Axes>"
      ]
     },
     "metadata": {
      "needs_background": "light"
     },
     "output_type": "display_data"
    }
   ],
   "source": [
    "from sklearn.metrics import roc_curve, auc\n",
    "from sklearn.metrics import accuracy_score\n",
    "from sklearn.metrics import precision_score\n",
    "from sklearn.metrics import recall_score\n",
    "from sklearn.metrics import f1_score\n",
    "from sklearn.metrics import matthews_corrcoef\n",
    "\n",
    "degres2 = ['X']\n",
    "for degre in degres:\n",
    "    degres2.append('X^' + str(degre))\n",
    "\n",
    "degres2 =  degres2  + ['aleatoire', 'uns', 'zeros', 'inverse']\n",
    "couleurs= ['red', 'magenta', 'blue', 'orange', 'cyan', 'green', 'purple']\n",
    "\n",
    "ACCs    = []\n",
    "Ps      = []\n",
    "Rs      = []\n",
    "F1s     = []\n",
    "MCCs    = []\n",
    "\n",
    "for degre, modele, couleur in zip(degres2, modeles2, couleurs):\n",
    "    y_score     = modele.predict(X_notes_test)\n",
    "    fpr, tpr, _ = roc_curve(Y_notes_test, y_score)\n",
    "    roc_auc     = auc(fpr, tpr)\n",
    "    plt.plot(fpr, tpr, color=couleur, label='ROC de \"{0}\" (surface = {1:0.2f})'.format(degre, roc_auc))\n",
    "    \n",
    "    ACCs.append(accuracy_score   (Y_notes_test, y_score                 ))\n",
    "    Ps  .append(precision_score  (Y_notes_test, y_score, zero_division=0))\n",
    "    Rs  .append(recall_score     (Y_notes_test, y_score                 ))\n",
    "    F1s .append(f1_score         (Y_notes_test, y_score                 ))\n",
    "    MCCs.append(matthews_corrcoef(Y_notes_test, y_score                 ))\n",
    "\n",
    "plt.plot([0, 1], [0, 1], 'k--')\n",
    "plt.xlim([-0.05, 1.05])\n",
    "plt.ylim([-0.05, 1.05])\n",
    "plt.xlabel('Taux de faux positifs')\n",
    "plt.ylabel('Taux de vrais positifs')\n",
    "plt.title('Courbes ROC')\n",
    "plt.legend(loc='lower right')\n",
    "plt.show()"
   ]
  },
  {
   "cell_type": "markdown",
   "id": "f777e096",
   "metadata": {},
   "source": [
    "**TODO: Analyser les résultats**\n",
    "\n",
    "- Quelle est le meilleure modèle selon ROC ? Expliquer.\n",
    "- Quelle est le plus mauvais modèle selon ROC ? Expliquer.\n",
    "\n",
    "**Réponse**\n",
    "\n",
    "- \"X\", car il a prédit 100% des vrais positifs, càd, il a prédit tous les admis en tant que admis.\n",
    "- \"inverse\", car il a prédit 0% des vrais positifs (100% de faux positifs), càd, il a prédit tous les admis en tant que non admis."
   ]
  },
  {
   "cell_type": "code",
   "execution_count": 67,
   "id": "c8ea79e6",
   "metadata": {
    "scrolled": true
   },
   "outputs": [
    {
     "data": {
      "text/html": [
       "<div>\n",
       "<style scoped>\n",
       "    .dataframe tbody tr th:only-of-type {\n",
       "        vertical-align: middle;\n",
       "    }\n",
       "\n",
       "    .dataframe tbody tr th {\n",
       "        vertical-align: top;\n",
       "    }\n",
       "\n",
       "    .dataframe thead th {\n",
       "        text-align: right;\n",
       "    }\n",
       "</style>\n",
       "<table border=\"1\" class=\"dataframe\">\n",
       "  <thead>\n",
       "    <tr style=\"text-align: right;\">\n",
       "      <th></th>\n",
       "      <th>Degré</th>\n",
       "      <th>Exactitude</th>\n",
       "      <th>Précision</th>\n",
       "      <th>Rappel</th>\n",
       "      <th>F1 score</th>\n",
       "      <th>matthews</th>\n",
       "    </tr>\n",
       "  </thead>\n",
       "  <tbody>\n",
       "    <tr>\n",
       "      <th>0</th>\n",
       "      <td>X</td>\n",
       "      <td>1.00</td>\n",
       "      <td>1.000000</td>\n",
       "      <td>1.000000</td>\n",
       "      <td>1.000000</td>\n",
       "      <td>1.000000</td>\n",
       "    </tr>\n",
       "    <tr>\n",
       "      <th>1</th>\n",
       "      <td>X^3</td>\n",
       "      <td>0.75</td>\n",
       "      <td>0.818182</td>\n",
       "      <td>0.750000</td>\n",
       "      <td>0.782609</td>\n",
       "      <td>0.492366</td>\n",
       "    </tr>\n",
       "    <tr>\n",
       "      <th>2</th>\n",
       "      <td>X^5</td>\n",
       "      <td>0.80</td>\n",
       "      <td>0.833333</td>\n",
       "      <td>0.833333</td>\n",
       "      <td>0.833333</td>\n",
       "      <td>0.583333</td>\n",
       "    </tr>\n",
       "    <tr>\n",
       "      <th>3</th>\n",
       "      <td>aleatoire</td>\n",
       "      <td>0.55</td>\n",
       "      <td>0.636364</td>\n",
       "      <td>0.583333</td>\n",
       "      <td>0.608696</td>\n",
       "      <td>0.082061</td>\n",
       "    </tr>\n",
       "    <tr>\n",
       "      <th>4</th>\n",
       "      <td>uns</td>\n",
       "      <td>0.60</td>\n",
       "      <td>0.600000</td>\n",
       "      <td>1.000000</td>\n",
       "      <td>0.750000</td>\n",
       "      <td>0.000000</td>\n",
       "    </tr>\n",
       "    <tr>\n",
       "      <th>5</th>\n",
       "      <td>zeros</td>\n",
       "      <td>0.40</td>\n",
       "      <td>0.000000</td>\n",
       "      <td>0.000000</td>\n",
       "      <td>0.000000</td>\n",
       "      <td>0.000000</td>\n",
       "    </tr>\n",
       "    <tr>\n",
       "      <th>6</th>\n",
       "      <td>inverse</td>\n",
       "      <td>0.00</td>\n",
       "      <td>0.000000</td>\n",
       "      <td>0.000000</td>\n",
       "      <td>0.000000</td>\n",
       "      <td>-1.000000</td>\n",
       "    </tr>\n",
       "  </tbody>\n",
       "</table>\n",
       "</div>"
      ],
      "text/plain": [
       "       Degré  Exactitude  Précision    Rappel  F1 score  matthews\n",
       "0          X        1.00   1.000000  1.000000  1.000000  1.000000\n",
       "1        X^3        0.75   0.818182  0.750000  0.782609  0.492366\n",
       "2        X^5        0.80   0.833333  0.833333  0.833333  0.583333\n",
       "3  aleatoire        0.55   0.636364  0.583333  0.608696  0.082061\n",
       "4        uns        0.60   0.600000  1.000000  0.750000  0.000000\n",
       "5      zeros        0.40   0.000000  0.000000  0.000000  0.000000\n",
       "6    inverse        0.00   0.000000  0.000000  0.000000 -1.000000"
      ]
     },
     "execution_count": 67,
     "metadata": {},
     "output_type": "execute_result"
    }
   ],
   "source": [
    "pd.DataFrame({\n",
    "    'Degré'         : degres2,\n",
    "    'Exactitude'    : ACCs   ,\n",
    "    'Précision'     : Ps     ,\n",
    "    'Rappel'        : Rs     ,\n",
    "    'F1 score'      : F1s    ,\n",
    "    'matthews'      : MCCs   ,\n",
    "})"
   ]
  },
  {
   "cell_type": "markdown",
   "id": "f01b1f47",
   "metadata": {},
   "source": [
    "**TODO: Analyser les résultats**\n",
    "\n",
    "- Quelle est le modèle qui illustre l'inefficacité de l'exactitude dans le classement binaire ? Expliquer.\n",
    "- Quelle est la métrique qui teste si un modèle est parfait, totalement erroné ou comparable à l'aléatoire ? Expliquer.\n",
    "- \"X^3\" vs. \"uns\" : quelle est le modèle parmi les deux qui détecte plus de cas admis ? Quelle est la métrique qui assure cela ?\n",
    "- \"X^3\" vs. \"uns\" : quelle est le modèle parmi les deux qui assure que les admis détectés sont vraiment admis ? Quelle est la métrique qui assure cela ?\n",
    "- F1 score : pourquoi nous utilisons la moyenne harmonique entre la précision et le rappel et pas la moyenne arithmétique ? \n",
    "\n",
    "**Réponse**\n",
    "\n",
    "- le modèle qui illustre l'inefficacité de l'exactitude dans le classement binaire est \"zeros\", car toutes les métriques sont = 0 ( ce qui est logique ) sauf l'exactitude=0.4.\n",
    "- la métrique qui teste si un modèle est parfait est \"matthews\", car ce dernier ne produit un score élevé que si la prédiction a obtenu de bons résultats dans les quatre catégories de la matrice de confusion (vrais positifs, faux négatifs, vrais négatifs et faux positifs), en proportion de la taille des éléments positifs et à la taille des éléments négatifs dans l'ensemble de données.\n",
    "- \"uns\" détecte plus de cas admis que \"X3\", en prenant comme métrique le rappel.\n",
    "- \"X3\" assure que les admis détectés sont vraiment admis plus  que de cas admis que \"uns\", en prenant comme métrique la précision.\n",
    "- Nous utilisons la moyenne harmonique au lieu d'une moyenne simple car elle sanctionne les valeurs extrêmes. Si par esemple,  la précision= 1.0 et le rappel = 0.0 a une moyenne arithmétique = 0.5 mais le score F1 de 0, ce qui est plus significatif."
   ]
  },
  {
   "cell_type": "code",
   "execution_count": null,
   "id": "b50c8f20",
   "metadata": {},
   "outputs": [],
   "source": []
  }
 ],
 "metadata": {
  "kernelspec": {
   "display_name": "Python 3 (ipykernel)",
   "language": "python",
   "name": "python3"
  },
  "language_info": {
   "codemirror_mode": {
    "name": "ipython",
    "version": 3
   },
   "file_extension": ".py",
   "mimetype": "text/x-python",
   "name": "python",
   "nbconvert_exporter": "python",
   "pygments_lexer": "ipython3",
   "version": "3.9.5"
  }
 },
 "nbformat": 4,
 "nbformat_minor": 5
}
