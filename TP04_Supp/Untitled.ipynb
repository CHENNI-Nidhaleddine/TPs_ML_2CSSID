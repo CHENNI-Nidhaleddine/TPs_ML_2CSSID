{
 "cells": [
  {
   "cell_type": "code",
   "execution_count": 1,
   "id": "867a439b",
   "metadata": {},
   "outputs": [],
   "source": [
    "import numpy as np\n",
    "import pandas as pd"
   ]
  },
  {
   "cell_type": "markdown",
   "id": "ee19b820",
   "metadata": {},
   "source": [
    "## Préparation des données"
   ]
  },
  {
   "cell_type": "code",
   "execution_count": 20,
   "id": "90bb408c",
   "metadata": {},
   "outputs": [],
   "source": [
    "path=\"data/sat.trn\"\n",
    "data_train=pd.read_csv(\"data/sat.trn\",sep=\" \")\n",
    "data_test=pd.read_csv(\"data/sat.tst\",sep=\" \")\n",
    "X_train,Y_train=data_train.values[:,:-1],data_train.values[:,-1]\n",
    "X_test,Y_test=data_test.values[:,:-1],data_test.values[:,-1]"
   ]
  },
  {
   "cell_type": "markdown",
   "id": "0c49c06b",
   "metadata": {},
   "source": [
    "## Comparaison entre algorithmes"
   ]
  },
  {
   "cell_type": "code",
   "execution_count": 32,
   "id": "98183eeb",
   "metadata": {},
   "outputs": [],
   "source": [
    "from sklearn.linear_model import LogisticRegression\n",
    "from sklearn.naive_bayes import GaussianNB\n",
    "from   sklearn.tree    import DecisionTreeClassifier\n",
    "from sklearn.ensemble import RandomForestClassifier\n",
    "from sklearn.metrics  import accuracy_score\n",
    "import timeit"
   ]
  },
  {
   "cell_type": "code",
   "execution_count": 33,
   "id": "1ebf2b90",
   "metadata": {},
   "outputs": [],
   "source": [
    "models=[\n",
    "    LogisticRegression(solver=\"liblinear\"),\n",
    "    GaussianNB(),\n",
    "    DecisionTreeClassifier(criterion='gini'),\n",
    "    RandomForestClassifier(n_estimators=50),\n",
    "]\n",
    "train_time=[]\n",
    "test_time=[]\n",
    "train_acc=[]\n",
    "test_acc=[]\n",
    "\n",
    "for model in models:\n",
    "    #training\n",
    "    time=timeit.default_timer()\n",
    "    model.fit(X_train,Y_train)\n",
    "    train_time.append(timeit.default_timer()-time)\n",
    "    \n",
    "    #test:\n",
    "    time=timeit.default_timer()\n",
    "    Y_test_pred=model.predict(X_test)\n",
    "    test_time.append(timeit.default_timer()-time)\n",
    "    \n",
    "    #train accuracy\n",
    "    Y_train_pred=model.predict(X_train)\n",
    "    train_acc.append(accuracy_score(Y_train, Y_train_pred))\n",
    "    \n",
    "    #test accuracy\n",
    "    test_acc.append(accuracy_score(Y_test,Y_test_pred))"
   ]
  },
  {
   "cell_type": "code",
   "execution_count": 35,
   "id": "84675870",
   "metadata": {},
   "outputs": [
    {
     "data": {
      "text/html": [
       "<div>\n",
       "<style scoped>\n",
       "    .dataframe tbody tr th:only-of-type {\n",
       "        vertical-align: middle;\n",
       "    }\n",
       "\n",
       "    .dataframe tbody tr th {\n",
       "        vertical-align: top;\n",
       "    }\n",
       "\n",
       "    .dataframe thead th {\n",
       "        text-align: right;\n",
       "    }\n",
       "</style>\n",
       "<table border=\"1\" class=\"dataframe\">\n",
       "  <thead>\n",
       "    <tr style=\"text-align: right;\">\n",
       "      <th></th>\n",
       "      <th>Algorithm</th>\n",
       "      <th>train time</th>\n",
       "      <th>test time</th>\n",
       "      <th>Accuracy train</th>\n",
       "      <th>Accuracy test</th>\n",
       "    </tr>\n",
       "  </thead>\n",
       "  <tbody>\n",
       "    <tr>\n",
       "      <th>0</th>\n",
       "      <td>Logistic Regression</td>\n",
       "      <td>1.070208</td>\n",
       "      <td>0.000448</td>\n",
       "      <td>0.843031</td>\n",
       "      <td>0.814407</td>\n",
       "    </tr>\n",
       "    <tr>\n",
       "      <th>1</th>\n",
       "      <td>Gaussian NB</td>\n",
       "      <td>0.010798</td>\n",
       "      <td>0.002407</td>\n",
       "      <td>0.797700</td>\n",
       "      <td>0.796398</td>\n",
       "    </tr>\n",
       "    <tr>\n",
       "      <th>2</th>\n",
       "      <td>Decision Tree</td>\n",
       "      <td>0.095655</td>\n",
       "      <td>0.001199</td>\n",
       "      <td>1.000000</td>\n",
       "      <td>0.850925</td>\n",
       "    </tr>\n",
       "    <tr>\n",
       "      <th>3</th>\n",
       "      <td>Random Forest</td>\n",
       "      <td>0.592583</td>\n",
       "      <td>0.022944</td>\n",
       "      <td>1.000000</td>\n",
       "      <td>0.905453</td>\n",
       "    </tr>\n",
       "  </tbody>\n",
       "</table>\n",
       "</div>"
      ],
      "text/plain": [
       "             Algorithm  train time  test time  Accuracy train  Accuracy test\n",
       "0  Logistic Regression    1.070208   0.000448        0.843031       0.814407\n",
       "1          Gaussian NB    0.010798   0.002407        0.797700       0.796398\n",
       "2        Decision Tree    0.095655   0.001199        1.000000       0.850925\n",
       "3        Random Forest    0.592583   0.022944        1.000000       0.905453"
      ]
     },
     "execution_count": 35,
     "metadata": {},
     "output_type": "execute_result"
    }
   ],
   "source": [
    "algo_noms = ['Logistic Regression', 'Gaussian NB', 'Decision Tree','Random Forest']\n",
    "\n",
    "pd.DataFrame({\n",
    "    'Algorithm'            : algo_noms  ,\n",
    "    'train time' : train_time,\n",
    "    'test time'         : test_time,\n",
    "    'Accuracy train':train_acc,\n",
    "    'Accuracy test':test_acc,\n",
    "})"
   ]
  },
  {
   "cell_type": "code",
   "execution_count": null,
   "id": "5550bc71",
   "metadata": {},
   "outputs": [],
   "source": []
  }
 ],
 "metadata": {
  "kernelspec": {
   "display_name": "Python 3",
   "language": "python",
   "name": "python3"
  },
  "language_info": {
   "codemirror_mode": {
    "name": "ipython",
    "version": 3
   },
   "file_extension": ".py",
   "mimetype": "text/x-python",
   "name": "python",
   "nbconvert_exporter": "python",
   "pygments_lexer": "ipython3",
   "version": "3.8.8"
  }
 },
 "nbformat": 4,
 "nbformat_minor": 5
}
